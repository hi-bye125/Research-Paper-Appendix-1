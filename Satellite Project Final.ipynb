{
  "nbformat": 4,
  "nbformat_minor": 0,
  "metadata": {
    "colab": {
      "provenance": []
    },
    "kernelspec": {
      "name": "python3",
      "display_name": "Python 3"
    },
    "language_info": {
      "name": "python"
    }
  },
  "cells": [
    {
      "cell_type": "markdown",
      "source": [
        "Setup Numpy, Pandas, MatPlotLib and mount Google Drive"
      ],
      "metadata": {
        "id": "e3olf_j0ydB0"
      }
    },
    {
      "cell_type": "code",
      "source": [
        "!pip install -U -q PyDrive\n",
        "from google.colab import drive\n",
        "drive.mount('/content/gdrive')\n",
        "#may not be required if running on local machine\n",
        "import pandas as pd\n",
        "from matplotlib import pyplot as plt\n",
        "import numpy\n"
      ],
      "metadata": {
        "colab": {
          "base_uri": "https://localhost:8080/"
        },
        "id": "eoa7y0h0Fyuv",
        "outputId": "c85938b0-8571-49f3-f54c-31bc6213c345"
      },
      "execution_count": null,
      "outputs": [
        {
          "output_type": "stream",
          "name": "stdout",
          "text": [
            "Mounted at /content/gdrive\n"
          ]
        }
      ]
    },
    {
      "cell_type": "code",
      "source": [
        "from google.colab import drive\n",
        "drive.mount('/content/gdrive', force_remount=True)"
      ],
      "metadata": {
        "colab": {
          "base_uri": "https://localhost:8080/"
        },
        "id": "R7JuDwdo-4uf",
        "outputId": "502d85bf-a834-4416-89eb-bd89a2ff2fde"
      },
      "execution_count": null,
      "outputs": [
        {
          "output_type": "stream",
          "name": "stdout",
          "text": [
            "Mounted at /content/gdrive\n"
          ]
        }
      ]
    },
    {
      "cell_type": "markdown",
      "source": [
        "Next step imports all the CSV files to Pandas Dataframes"
      ],
      "metadata": {
        "id": "B6tMi6O9_Opq"
      }
    },
    {
      "cell_type": "code",
      "execution_count": null,
      "metadata": {
        "id": "kiG9VKnBCWyP"
      },
      "outputs": [],
      "source": [
        "alt_300=pd.read_csv('/content/gdrive/MyDrive/csv/300km.csv')\n",
        "alt_500=pd.read_csv('/content/gdrive/MyDrive/csv/500km altitude var.csv')\n",
        "alt_550=pd.read_csv('/content/gdrive/MyDrive/csv/550km.csv')\n",
        "alt_600=pd.read_csv('/content/gdrive/MyDrive/csv/600km.csv')\n",
        "alt_650=pd.read_csv('/content/gdrive/MyDrive/csv/650km.csv')\n",
        "alt_700=pd.read_csv('/content/gdrive/MyDrive/csv/700km.csv')\n",
        "altitude_files=[alt_300, alt_500, alt_550, alt_600, alt_650, alt_700]\n",
        "#be careful to change location to the correct file path"
      ]
    },
    {
      "cell_type": "code",
      "source": [
        "flux_75 = pd.read_csv('/content/gdrive/MyDrive/newdata/75.csv')\n",
        "flux_100=pd.read_csv('/content/gdrive/MyDrive/newdata/100.csv')\n",
        "flux_125=pd.read_csv('/content/gdrive/MyDrive/newdata/125.csv')\n",
        "flux_150=pd.read_csv('/content/gdrive/MyDrive/newdata/150.csv')\n",
        "flux_175=pd.read_csv('/content/gdrive/MyDrive/newdata/175.csv')\n",
        "flux_200=pd.read_csv('/content/gdrive/MyDrive/newdata/200.csv')\n",
        "flux_225=pd.read_csv('/content/gdrive/MyDrive/newdata/225.csv')\n",
        "flux_250=pd.read_csv('/content/gdrive/MyDrive/newdata/250.csv')\n",
        "flux_275=pd.read_csv('/content/gdrive/MyDrive/newdata/275.csv')\n",
        "flux_300=pd.read_csv('/content/gdrive/MyDrive/newdata/300.csv')\n",
        "flux_files=[flux_75, flux_100, flux_125, flux_150, flux_175, flux_200, flux_225, flux_250, flux_275, flux_300]"
      ],
      "metadata": {
        "id": "bfREX1BmGE1j"
      },
      "execution_count": null,
      "outputs": []
    },
    {
      "cell_type": "code",
      "source": [
        "area_5 = pd.read_csv('/content/gdrive/MyDrive/newdata/5m2.csv')\n",
        "area_15 = pd.read_csv('/content/gdrive/MyDrive/newdata/15m2.csv', sep='\\s+')\n",
        "area_30 = pd.read_csv('/content/gdrive/MyDrive/newdata/30m2.csv')\n",
        "area_45 = pd.read_csv('/content/gdrive/MyDrive/newdata/45m2.csv')\n",
        "area_60 = pd.read_csv('/content/gdrive/MyDrive/newdata/60m2.csv')\n",
        "area_files=[area_5, area_15, area_30,area_45, area_60]"
      ],
      "metadata": {
        "id": "pH3nJrWTJzLd"
      },
      "execution_count": null,
      "outputs": []
    },
    {
      "cell_type": "markdown",
      "source": [
        "Make all the charts for altitude Variation"
      ],
      "metadata": {
        "id": "xqFqxPAr_bo6"
      }
    },
    {
      "cell_type": "code",
      "source": [
        "new_altitude_files=[]\n",
        "for i in altitude_files:\n",
        "  filemod=i.query('`AltitudeVar.Earth.Altitude` >= 100')\n",
        "  new_altitude_files.append(filemod)\n",
        "\n",
        "#adjusts end point to 100km"
      ],
      "metadata": {
        "id": "4GaVktJ-hagc"
      },
      "execution_count": null,
      "outputs": []
    },
    {
      "cell_type": "code",
      "source": [
        "for i in new_altitude_files:\n",
        "  plt.plot(i['AltitudeVar.ElapsedSecs']/31536000,i['AltitudeVar.Earth.Altitude'])\n",
        "plt.title(\"Altitude against Time\")\n",
        "plt.xlabel(\"Elapsed Time/years\")\n",
        "plt.ylabel(\"Altitude/km\")\n",
        "plt.legend(['300km','500km','550km','600km','650km','700km'],bbox_to_anchor=(1.0, 1.0), loc='upper right')\n"
      ],
      "metadata": {
        "id": "e_R1OEkOwN0g"
      },
      "execution_count": null,
      "outputs": []
    },
    {
      "cell_type": "code",
      "source": [
        "time_to_decay_altitude =[]\n",
        "for i in new_altitude_files:\n",
        "  timevar=i['AltitudeVar.ElapsedSecs'].iloc[-1]\n",
        "  time_to_decay_altitude.append(timevar)\n",
        "time_to_decay_altitude_days = [x//31536000 for x in time_to_decay_altitude]\n",
        "\n",
        "heights=[300,500,550,600,650,700]\n",
        "plt.errorbar(heights, time_to_decay_altitude_days,yerr=0.04,fmt='.')\n",
        "plt.plot(heights, time_to_decay_altitude_days)\n",
        "plt.title(\"Altitude against Time\")\n",
        "plt.title(\"Time to decay against initial altitude\")\n",
        "plt.xlabel(\"Initial Altitude/km\")\n",
        "plt.ylabel(\"Decay time/days\")"
      ],
      "metadata": {
        "id": "I6zDANiZ73ey"
      },
      "execution_count": null,
      "outputs": []
    },
    {
      "cell_type": "code",
      "source": [
        "log_decay=numpy.log(time_to_decay_altitude_days)\n",
        "plt.plot(heights, log_decay)\n",
        "plt.title(\"Log of time to decay against initial altitude\")\n",
        "plt.xlabel(\"Initial Altitude/km\")\n",
        "plt.ylabel(\"Log of decay time/lg-s\")\n"
      ],
      "metadata": {
        "id": "Zbgt1JGTJdPh"
      },
      "execution_count": null,
      "outputs": []
    },
    {
      "cell_type": "markdown",
      "source": [
        "Make plots for Solar Flux Variation"
      ],
      "metadata": {
        "id": "CXo0lx7F_imy"
      }
    },
    {
      "cell_type": "code",
      "source": [
        "for i in flux_files:\n",
        "  plt.plot(i['solarfluxvar.ElapsedSecs']/31536000,i['solarfluxvar.Earth.Altitude'])\n",
        "plt.title(\"Altitude against Time(Varying Solar Flux)\")\n",
        "plt.xlabel(\"Elapsed Time/years\")\n",
        "plt.ylabel(\"Altitude/km\")\n",
        "plt.legend(['75sfu','100sfu','125sfu','150sfu','175sfu','200sfu', '225sfu', '250sfu', '275sfu','300sfu'], bbox_to_anchor=(1.0, 1.0), loc='upper right')"
      ],
      "metadata": {
        "id": "O6mvdmQH_nBi"
      },
      "execution_count": null,
      "outputs": []
    },
    {
      "cell_type": "code",
      "source": [
        "time_to_decay_flux =[]\n",
        "for i in flux_files:\n",
        "  timevar=i['solarfluxvar.ElapsedSecs'].iloc[-1]\n",
        "  time_to_decay_flux.append(timevar)\n",
        "time_to_decay_flux_days = [x//31536000 for x in time_to_decay_flux]\n",
        "flux=[75,100,125,150,175,200, 225, 250, 275, 300]\n",
        "plt.plot(flux,time_to_decay_flux_days)\n",
        "plt.title(\"Time to decay against Solar Flux\")\n",
        "plt.xlabel(\"Average Solar Flux @10.7cm/ W m-² Hz⁻¹\")\n",
        "plt.ylabel(\"Time to decay/ years\")\n"
      ],
      "metadata": {
        "id": "pEhd6MFuBapy"
      },
      "execution_count": null,
      "outputs": []
    },
    {
      "cell_type": "markdown",
      "source": [
        "Make graphs for area variation"
      ],
      "metadata": {
        "id": "CKfxgm--jcC1"
      }
    },
    {
      "cell_type": "code",
      "source": [
        "for i in area_files:\n",
        "  plt.plot(i['AreaVar.ElapsedSecs']/31536000,i['AreaVar.Earth.Altitude'])\n",
        "\n",
        "plt.title(\"Altitude against Time(Varied Cross sectional area)\")\n",
        "plt.xlabel(\"Elapsed Time/years\")\n",
        "plt.ylabel(\"Altitude/km\")\n",
        "plt.legend(['5m²','15m²','30m²','45m²','60m²'], bbox_to_anchor=(1.0, 1.0), loc='upper right')"
      ],
      "metadata": {
        "id": "UJWVIVj-7yn7"
      },
      "execution_count": null,
      "outputs": []
    },
    {
      "cell_type": "code",
      "source": [
        "time_to_decay_area =[]\n",
        "for i in area_files:\n",
        "  timevar=i['AreaVar.ElapsedSecs'].iloc[-1]\n",
        "  time_to_decay_area.append(timevar)\n",
        "time_to_decay_area_days = [x//31536000 for x in time_to_decay_area]\n",
        "area=[5,15,30,45,60]\n",
        "plt.plot(area,time_to_decay_area)\n",
        "plt.title(\"Time to decay against Cross sectional area\")\n",
        "plt.xlabel(\"Cross sectional area/ m²\")\n",
        "plt.ylabel(\"Time to decay/years\")\n"
      ],
      "metadata": {
        "id": "TQQqByyd_GBH"
      },
      "execution_count": null,
      "outputs": []
    }
  ]
}